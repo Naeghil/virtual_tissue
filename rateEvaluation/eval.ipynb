{
 "cells": [
  {
   "cell_type": "code",
   "execution_count": 13,
   "metadata": {},
   "outputs": [],
   "source": [
    "from sklearn import svm\n",
    "import scipy as sp\n",
    "import numpy as np\n",
    "import pandas as pd\n",
    "\n",
    "pops = [\"V1L4E\", \"V1L4I\", \"V1L23E\", \"V1L23I\", \"V2L4E\", \"V2L4I\", \"V2L23E\", \"V2L23I\"]\n",
    "sets = [\"MNIST_train\",\"MNIST_test\",\"CIFAR-10_test_gray\",\"CIFAR-10_train_gray\",\"SVHN_test\",\"SVHN_train\",\n",
    "        \"EMNIST_test\",\"EMNIST_train\",\"ETH80_gray_vector\",\"CalTec101_subset\"]#CalTec101_images,STL10_train,STL10_test\n",
    "noImgs = [60000,10000,10000,50000,26032,73257,18800,112800,3280,1233]\n",
    "conditions = [\"30on\", \"30off\", \"42on\", \"42off\", \"100on\", \"100off\"]\n",
    "\n",
    "accuracies = pd.DataFrame(columns=[\"Dataset\",\"Condition\", \"Population\", \"Accuracy\"])"
   ]
  },
  {
   "attachments": {},
   "cell_type": "markdown",
   "metadata": {},
   "source": [
    "# Cut Datasets"
   ]
  },
  {
   "cell_type": "code",
   "execution_count": 12,
   "metadata": {},
   "outputs": [
    {
     "name": "stdout",
     "output_type": "stream",
     "text": [
      "(10000,)\n"
     ]
    }
   ],
   "source": [
    "ds = \"MNIST\"\n",
    "testL = list(sp.io.loadmat(\"../DATA/\"+ds+\"_test_labels.mat\").values())[-1].squeeze()\n",
    "trainL = list(sp.io.loadmat(\"../DATA/\"+ds+\"_train_labels.mat\").values())[-1].squeeze()\n",
    "for c in conditions:\n",
    "    for p in pops:\n",
    "        test = np.loadtxt(\"../RESULTS/eval/\"+ds+\"test\"+c+p) \n",
    "        train = np.loadtxt(\"../RESULTS/eval/\"+ds+\"train\"+c+p)\n",
    "        cf = svm.LinearSVC()\n",
    "        cf.fit(train, trainL)\n",
    "        accuracies.loc[len(accuracies)] = [\"MINST\", c, p, cf.score(test, testL)]"
   ]
  },
  {
   "cell_type": "code",
   "execution_count": null,
   "metadata": {},
   "outputs": [],
   "source": [
    "ds = \"CIFAR-10\"\n",
    "testL = list(sp.io.loadmat(\"../DATA/\"+ds+\"_test_labels.mat\").values())[-1].squeeze()\n",
    "trainL = list(sp.io.loadmat(\"../DATA/\"+ds+\"_train_labels.mat\").values())[-1].squeeze()\n",
    "for c in conditions:\n",
    "    for p in pops:\n",
    "        test = np.loadtxt(\"../RESULTS/eval/\"+ds+\"test_gray\"+c+p) \n",
    "        train = np.loadtxt(\"../RESULTS/eval/\"+ds+\"train_gray\"+c+p)\n",
    "        cf = svm.LinearSVC()\n",
    "        cf.fit(train, trainL)\n",
    "        accuracies.loc[len(accuracies)] = [\"CIFAR-10\", c, p, cf.score(test, testL)]"
   ]
  },
  {
   "cell_type": "code",
   "execution_count": null,
   "metadata": {},
   "outputs": [],
   "source": [
    "ds = \"EMNIST\"\n",
    "testL = list(sp.io.loadmat(\"../DATA/\"+ds+\"_test_labels.mat\").values())[-1].squeeze()\n",
    "trainL = list(sp.io.loadmat(\"../DATA/\"+ds+\"_train_labels.mat\").values())[-1].squeeze()\n",
    "for c in conditions:\n",
    "    for p in pops:\n",
    "        test = np.loadtxt(\"../RESULTS/eval/\"+ds+\"test\"+c+p) \n",
    "        train = np.loadtxt(\"../RESULTS/eval/\"+ds+\"train\"+c+p)\n",
    "        cf = svm.LinearSVC()\n",
    "        cf.fit(train, trainL)\n",
    "        accuracies.loc[len(accuracies)] = [\"EMNIST\", c, p, cf.score(test, testL)]"
   ]
  },
  {
   "attachments": {},
   "cell_type": "markdown",
   "metadata": {},
   "source": [
    "# Tiled Datasets"
   ]
  },
  {
   "cell_type": "code",
   "execution_count": null,
   "metadata": {},
   "outputs": [],
   "source": [
    "ds = \"ETH80_gray_vector\"\n",
    "labels = list(sp.io.loadmat(\"../DATA/\"+ds+\"_labels.mat\").values())[-1].squeeze()\n",
    "for c in conditions:\n",
    "    for p in pops:\n",
    "        resp = np.array([np.loadtxt(\"../RESULTS/eval/\"+ds+\"/\"+str(i)+c+p).flatten() for i in range(noImgs[8])])\n",
    "        shuf = np.random.permutation(len(resp))\n",
    "\n",
    "        trainL = labels[shuf][:int(len(resp)*.7)]\n",
    "        train = resp[shuf][:int(len(resp)*.7)]\n",
    "        testL = labels[shuf][int(len(resp)*.7):]\n",
    "        test = resp[shuf][int(len(resp)*.7):]\n",
    "        \n",
    "        cf = svm.LinearSVC()\n",
    "        cf.fit(train, trainL)\n",
    "        accuracies.loc[len(accuracies)] = [\"ETH80\", c, p, cf.score(test, testL)]"
   ]
  },
  {
   "cell_type": "code",
   "execution_count": null,
   "metadata": {},
   "outputs": [],
   "source": [
    "ds = \"CalTec101_subset\"\n",
    "labels = list(sp.io.loadmat(\"../DATA/\"+ds+\"_labels.mat\").values())[-1].squeeze()\n",
    "for c in conditions:\n",
    "    for p in pops:\n",
    "        resp = np.array([np.loadtxt(\"../RESULTS/eval/\"+ds+\"/\"+str(i)+c+p).flatten() for i in range(noImgs[8])])\n",
    "        shuf = np.random.permutation(len(resp))\n",
    "\n",
    "        trainL = labels[shuf][:int(len(resp)*.7)]\n",
    "        train = resp[shuf][:int(len(resp)*.7)]\n",
    "        testL = labels[shuf][int(len(resp)*.7):]\n",
    "        test = resp[shuf][int(len(resp)*.7):]\n",
    "        \n",
    "        cf = svm.LinearSVC()\n",
    "        cf.fit(train, trainL)\n",
    "        accuracies.loc[len(accuracies)] = [\"CalTec101\", c, p, cf.score(test, testL)]"
   ]
  }
 ],
 "metadata": {
  "kernelspec": {
   "display_name": "Python 3",
   "language": "python",
   "name": "python3"
  },
  "language_info": {
   "codemirror_mode": {
    "name": "ipython",
    "version": 3
   },
   "file_extension": ".py",
   "mimetype": "text/x-python",
   "name": "python",
   "nbconvert_exporter": "python",
   "pygments_lexer": "ipython3",
   "version": "3.10.6"
  },
  "orig_nbformat": 4
 },
 "nbformat": 4,
 "nbformat_minor": 2
}
