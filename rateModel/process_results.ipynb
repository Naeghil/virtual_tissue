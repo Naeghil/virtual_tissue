{
 "cells": [
  {
   "cell_type": "code",
   "execution_count": 1,
   "metadata": {},
   "outputs": [],
   "source": [
    "import pandas as pd\n",
    "import numpy as np\n",
    "import matplotlib.pyplot as plt\n",
    "from matplotlib import ticker as tk\n",
    "import scipy as sp\n",
    "\n",
    "rPath = \"../RESULTS/\"\n",
    "prTrain = rPath+\"training/\""
   ]
  },
  {
   "cell_type": "code",
   "execution_count": 2,
   "metadata": {},
   "outputs": [],
   "source": [
    "# It is important that these be arrays because they need to be\n",
    "# in the same order as the parameters.h file\n",
    "pops = [\"V1L4E\", \"V1L4I\", \"V1L23E\", \"V1L23I\", \"V2L4E\", \"V2L4I\", \"V2L23E\", \"V2L23I\", \"LGN\"]\n",
    "dims = {\"V1L4E\":[23,4], \"V1L4I\":[23,1], \"V1L23E\":[17,7], \"V1L23I\":[17,2], \"V2L4E\":[13,10], \"V2L4I\":[13,3], \"V2L23E\":[10,16], \"V2L23I\":[10,5], \"LGN\":[32,2]}\n",
    "RFsv = {\"FF\":{\"V1L4\":10, \"V1L23\":7, \"V2L4\":5, \"V2L23\":4}, \"Lat\":{\"V1L4\":11, \"V1L23\":9, \"V2L4\":7, \"V2L23\":5}, \"FB\":{\"V1L4\":7, \"V1L23\":8, \"V2L4\":4, \"V2L23\":0}}\n",
    "syns = [ [\"LGN\", \"V1L4E\", \"FF\"], [\"LGN\", \"V1L4I\", \"FF\"], [\"V1L4E\", \"V1L23E\", \"FF\"], [\"V1L4E\", \"V1L23I\", \"FF\"], \n",
    "    [\"V1L23E\", \"V2L4E\", \"FF\"], [\"V1L23E\", \"V2L4I\", \"FF\"], [\"V2L4E\", \"V2L23E\", \"FF\"], [\"V2L4E\", \"V2L23I\", \"FF\"],\n",
    "    [\"V1L4E\", \"V1L4I\", \"Lat\"], [\"V1L4I\", \"V1L4E\", \"Lat\"], [\"V1L4I\", \"V1L4I\", \"Lat\"], [\"V1L23E\", \"V1L23I\", \"Lat\"],\n",
    "    [\"V1L23I\", \"V1L23E\", \"Lat\"], [\"V1L23I\", \"V1L23I\", \"Lat\"], [\"V2L4E\", \"V2L4I\", \"Lat\"], [\"V2L4I\", \"V2L4E\", \"Lat\"], \n",
    "    [\"V2L4I\", \"V2L4I\", \"Lat\"], [\"V2L23E\", \"V2L23I\", \"Lat\"], [\"V2L23I\", \"V2L23E\", \"Lat\"], [\"V2L23I\", \"V2L23I\", \"Lat\"], \n",
    "    [\"V2L23E\", \"V1L23E\", \"FB\"], [\"V2L23E\", \"V1L23I\", \"FB\"],  [\"V1L23E\", \"V1L4I\", \"FB\"], [\"V2L23E\", \"V2L4I\", \"FB\"], \n",
    "    [\"V1L4I\", \"V1L23E\", \"FF\"], [\"V1L4I\", \"V1L23I\", \"FF\"], [\"V2L4I\", \"V2L23E\", \"FF\"], [\"V2L4I\", \"V2L23I\", \"FF\"] ]\n",
    "sNames = [ s[0]+\"-\"+s[1] for s in syns]"
   ]
  },
  {
   "attachments": {},
   "cell_type": "markdown",
   "metadata": {},
   "source": [
    "#  Training Results"
   ]
  },
  {
   "attachments": {},
   "cell_type": "markdown",
   "metadata": {},
   "source": [
    "## Weights"
   ]
  },
  {
   "cell_type": "code",
   "execution_count": 3,
   "metadata": {},
   "outputs": [],
   "source": [
    "for s in syns:\n",
    "    sName = s[0]+\"-\"+s[1]\n",
    "    wCounts = []\n",
    "    wBins = []\n",
    "    with open(prTrain+sName+\"dist.vec\") as f:\n",
    "        for i, r in enumerate(f):\n",
    "            if (i%2 == 0): wCounts.append(np.fromstring(r, sep=\" \"))\n",
    "            else: wBins.append(np.fromstring(r, sep=\" \"))\n",
    "        fig, axs = plt.subplots(4,3, figsize=(20,10))\n",
    "        toshow = [0, 1, 2, 5, 10, 20, 30, 40, 50, 100, 150, 200]\n",
    "        form = tk.ScalarFormatter(useMathText=True)\n",
    "        form.set_scientific(True)\n",
    "        form.set_powerlimits((-1,1))\n",
    "        for i, t in enumerate(toshow):\n",
    "            axs.flatten()[i].bar(wBins[t][:-1], wCounts[t], width=wBins[t][1]*.8, align='center')\n",
    "            axs.flatten()[i].set_title(str(t*1000) + \" patches\")\n",
    "            axs.flatten()[i].yaxis.set_major_formatter(form)\n",
    "        fig.suptitle(sName)\n",
    "        fig.tight_layout()\n",
    "        fig.savefig(rPath+\"training_sum/\"+sName+\"_wDists.png\")\n",
    "        plt.close(fig)"
   ]
  },
  {
   "cell_type": "code",
   "execution_count": 4,
   "metadata": {},
   "outputs": [],
   "source": [
    "wAvg = pd.read_csv(prTrain+\"avgWeights.tsv\", sep=\"\\t\")\n",
    "for p in pops:\n",
    "    cols = [c for c in wAvg.columns if p+\"-\" in c]\n",
    "    wAvg[cols].plot(figsize=(10,7))\n",
    "    plt.title(\"Source: \"+p)\n",
    "    plt.legend(title=\"Target\", labels=[c.split(\"-\")[1] for c in cols])\n",
    "    plt.savefig(rPath+\"training_sum/\"+p+\"-wAvg.png\")\n",
    "    plt.close()\n"
   ]
  },
  {
   "attachments": {},
   "cell_type": "markdown",
   "metadata": {},
   "source": [
    "## Rates"
   ]
  },
  {
   "cell_type": "code",
   "execution_count": 41,
   "metadata": {},
   "outputs": [],
   "source": [
    "for p in pops:\n",
    "    rCounts = []\n",
    "    rBins = []\n",
    "    with open(prTrain+p+\"dist.vec\") as f:\n",
    "        for i, r in enumerate(f):\n",
    "            if (i%2 == 0): rCounts.append(np.fromstring(r, sep=\" \"))\n",
    "            else: rBins.append(np.fromstring(r, sep=\" \"))\n",
    "        fig, axs = plt.subplots(4,3, figsize=(20,10))\n",
    "        toshow = [1, 2, 5, 10, 20, 30, 40, 50, 80, 100, 150, 200]\n",
    "        form = tk.ScalarFormatter(useMathText=True)\n",
    "        form.set_scientific(True)\n",
    "        form.set_powerlimits((-1,1))\n",
    "        for i, t in enumerate(toshow):\n",
    "            axs.flatten()[i].bar(wBins[t][:-1], rCounts[t], width=rBins[t][1]*.8, align='center')\n",
    "            axs.flatten()[i].set_title(str(t*1000) + \" patches\")\n",
    "            axs.flatten()[i].yaxis.set_major_formatter(form)\n",
    "        fig.suptitle(p)\n",
    "        fig.tight_layout()\n",
    "        fig.savefig(rPath+\"training_sum/\"+p+\"_rDists.png\")\n",
    "        plt.close(fig)"
   ]
  },
  {
   "cell_type": "code",
   "execution_count": 6,
   "metadata": {},
   "outputs": [],
   "source": [
    "rAvg = pd.read_csv(prTrain+\"avgRates.tsv\", sep=\"\\t\")\n",
    "rAvg[pops].apply(lambda x : sp.signal.savgol_filter(x,20,2)).plot()\n",
    "plt.title(\"Smoothed rates\")\n",
    "plt.savefig(rPath+\"training_sum/avgRates.png\")\n",
    "plt.close()"
   ]
  },
  {
   "attachments": {},
   "cell_type": "markdown",
   "metadata": {},
   "source": [
    "## Receptive Fields"
   ]
  },
  {
   "cell_type": "code",
   "execution_count": null,
   "metadata": {},
   "outputs": [],
   "source": [
    "from scipy.signal import gaussian\n",
    "gaussian\n",
    "\n",
    "for s in syns[:2]:\n",
    "    sName = s[0]+\"-\"+s[1]\n",
    "    mat = np.loadtxt(prTrain+sName+\"weights.vec\")\n",
    "    mask = np.loadtxt(\"architecture/matrices/\"+sName)\n",
    "    fE, axE = plt.subplots(10, 10, figsize = (10,10))\n",
    "    fE.suptitle(sName+\" On\", y=.92)    \n",
    "    fI, axI = plt.subplots(10, 10, figsize = (10,10))\n",
    "    fI.suptitle(sName+\" Off\", y=.92)\n",
    "    fRF, axRF = plt.subplots(10, 10, figsize = (10,10))\n",
    "    fRF.suptitle(sName+\" Receptive Fields\", y=.92)\n",
    "    for i in range(100):\n",
    "        rf = mat[:,100+i][mask[:,100+i]!=0.].reshape(10,10,2)\n",
    "        exc = rf[:,:,0]/rf[:,:,0].max()\n",
    "        inh = rf[:,:,1]/rf[:,:,1].max()\n",
    "        axE[i//10][i%10].matshow(exc, cmap=plt.cm.Blues)\n",
    "        axE[i//10][i%10].set_xticks([],[])\n",
    "        axE[i//10][i%10].set_yticks([],[])\n",
    "        axI[i//10][i%10].matshow(inh, cmap=plt.cm.Reds)\n",
    "        axI[i//10][i%10].set_xticks([],[])\n",
    "        axI[i//10][i%10].set_yticks([],[])\n",
    "        axRF[i//10][i%10].matshow(inh-exc, cmap=plt.cm.bwr)\n",
    "        axRF[i//10][i%10].set_xticks([],[])\n",
    "        axRF[i//10][i%10].set_yticks([],[])\n",
    "    fE.savefig(rPath+\"training_sum/\"+sName+\"On\")\n",
    "    fI.savefig(rPath+\"training_sum/\"+sName+\"Off\")\n",
    "    fRF.savefig(rPath+\"training_sum/\"+sName+\"RF\")"
   ]
  }
 ],
 "metadata": {
  "kernelspec": {
   "display_name": "Python 3",
   "language": "python",
   "name": "python3"
  },
  "language_info": {
   "codemirror_mode": {
    "name": "ipython",
    "version": 3
   },
   "file_extension": ".py",
   "mimetype": "text/x-python",
   "name": "python",
   "nbconvert_exporter": "python",
   "pygments_lexer": "ipython3",
   "version": "3.10.6"
  },
  "orig_nbformat": 4
 },
 "nbformat": 4,
 "nbformat_minor": 2
}
